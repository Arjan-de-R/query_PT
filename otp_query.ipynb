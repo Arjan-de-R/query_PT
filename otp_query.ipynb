{
 "cells": [
  {
   "cell_type": "markdown",
   "metadata": {},
   "source": [
    "# OpenTripPlanner \n",
    "\n",
    "\n",
    "__We can set our own route planner for a given OSM map and GTFS file and query server on localhost for a detailed routes__\n",
    "\n",
    "\n",
    "### OTP walkthrough\n",
    "\n",
    "from: http://docs.opentripplanner.org/en/latest/Basic-Tutorial/\n",
    "\n",
    "1. Install Java SDK\n",
    "2. Download [latest](https://repo1.maven.org/maven2/org/opentripplanner/otp/1.4.0/otp-1.4.0-shaded.jar) .jar from [Maven](https://repo1.maven.org/maven2/org/opentripplanner/otp/1.4.0/)\n",
    "3. Download gtfs.zip of a given city into a `folder` from `transit.land`\n",
    "4. Download osm.pgf of your area from [here](https://www.interline.io/osm/extracts/) (need to login to get API token `7b7b8199-2fed-4e24-840c-5f73cba835a4`) - all 6 cities are there\n",
    "5. call from terminal `java -Xmx6G -jar otp-1.4.0-shaded.jar --build /Users/rkucharski/Documents/otp --inMemory` changing `6G` as memory allocated (6GB) and `/Users/rkucharski/Documents/otp` to your path\n",
    "6. if succesful you shall be able to open a web search in your browser: `http://localhost:8080/`\n",
    "7. and query it via API, for instance: 'http://localhost:8080/otp/routers/default/plan?fromPlace=52.25177%2C20.92758&toPlace=52.20550%2C21.00517&time=1%3A02pm&date=04-09-2020&mode=TRANSIT%2CWALK&maxWalkDistance=5000&arriveBy=false'\n"
   ]
  },
  {
   "cell_type": "code",
   "execution_count": 1,
   "metadata": {},
   "outputs": [],
   "source": [
    "import requests\n",
    "import folium\n",
    "from shapely.geometry import Point\n",
    "from datetime import datetime\n",
    "import polyline\n",
    "import pandas as pd\n",
    "import geopandas as gpd\n",
    "import sys\n",
    "from IPython.display import Markdown, display\n",
    "import json"
   ]
  },
  {
   "cell_type": "code",
   "execution_count": 2,
   "metadata": {},
   "outputs": [],
   "source": [
    "sys.path.append('/Users/rkucharski/Documents/GitHub/pt_accessibility/src/')"
   ]
  },
  {
   "cell_type": "code",
   "execution_count": 3,
   "metadata": {},
   "outputs": [],
   "source": [
    "from server20 import *"
   ]
  },
  {
   "cell_type": "code",
   "execution_count": 4,
   "metadata": {},
   "outputs": [],
   "source": [
    "df = pd.read_csv('../data/otp/DC/DC.csv')"
   ]
  },
  {
   "cell_type": "code",
   "execution_count": 10,
   "metadata": {},
   "outputs": [
    {
     "ename": "TypeError",
     "evalue": "'Response' object is not subscriptable",
     "output_type": "error",
     "traceback": [
      "\u001b[0;31m---------------------------------------------------------------------------\u001b[0m",
      "\u001b[0;31mTypeError\u001b[0m                                 Traceback (most recent call last)",
      "\u001b[0;32m<ipython-input-10-55b378134c5c>\u001b[0m in \u001b[0;36m<module>\u001b[0;34m\u001b[0m\n\u001b[1;32m      3\u001b[0m \u001b[0mr\u001b[0m \u001b[0;34m=\u001b[0m \u001b[0mrequests\u001b[0m\u001b[0;34m.\u001b[0m\u001b[0mget\u001b[0m\u001b[0;34m(\u001b[0m\u001b[0;34m\"http://localhost:8080/otp/routers/default/plan\"\u001b[0m\u001b[0;34m,\u001b[0m \u001b[0mparams\u001b[0m\u001b[0;34m=\u001b[0m\u001b[0mquery\u001b[0m\u001b[0;34m)\u001b[0m\u001b[0;34m\u001b[0m\u001b[0;34m\u001b[0m\u001b[0m\n\u001b[1;32m      4\u001b[0m \u001b[0mroute\u001b[0m \u001b[0;34m=\u001b[0m \u001b[0mparse_OTP_response\u001b[0m\u001b[0;34m(\u001b[0m\u001b[0mr\u001b[0m\u001b[0;34m.\u001b[0m\u001b[0mjson\u001b[0m\u001b[0;34m(\u001b[0m\u001b[0;34m)\u001b[0m\u001b[0;34m)\u001b[0m\u001b[0;34m\u001b[0m\u001b[0;34m\u001b[0m\u001b[0m\n\u001b[0;32m----> 5\u001b[0;31m \u001b[0mplan\u001b[0m \u001b[0;34m=\u001b[0m \u001b[0mr\u001b[0m\u001b[0;34m[\u001b[0m\u001b[0;34m'plan'\u001b[0m\u001b[0;34m]\u001b[0m\u001b[0;34m\u001b[0m\u001b[0;34m\u001b[0m\u001b[0m\n\u001b[0m\u001b[1;32m      6\u001b[0m \u001b[0mplot\u001b[0m\u001b[0;34m(\u001b[0m\u001b[0mplan\u001b[0m\u001b[0;34m,\u001b[0m \u001b[0mcolor\u001b[0m \u001b[0;34m=\u001b[0m \u001b[0;34m'green'\u001b[0m\u001b[0;34m)\u001b[0m\u001b[0;34m\u001b[0m\u001b[0;34m\u001b[0m\u001b[0m\n",
      "\u001b[0;31mTypeError\u001b[0m: 'Response' object is not subscriptable"
     ]
    }
   ],
   "source": [
    "row = df.sample(1).squeeze()\n",
    "query = make_query(row)\n",
    "r = requests.get(\"http://localhost:8080/otp/routers/default/plan\", params=query)\n",
    "route = parse_OTP_response(r.json())\n",
    "plan = r.['plan']\n",
    "plot(plan, color = 'green')"
   ]
  },
  {
   "cell_type": "markdown",
   "metadata": {},
   "source": [
    "## Sample query\n",
    "\n",
    "[query synthax](http://dev.opentripplanner.org/apidoc/1.0.0/resource_PlannerResource.html)  \n",
    "[response json structure](http://dev.opentripplanner.org/apidoc/1.0.0/json_Response.html)"
   ]
  },
  {
   "cell_type": "code",
   "execution_count": 8,
   "metadata": {},
   "outputs": [
    {
     "ename": "NameError",
     "evalue": "name 'query_PT' is not defined",
     "output_type": "error",
     "traceback": [
      "\u001b[0;31m---------------------------------------------------------------------------\u001b[0m",
      "\u001b[0;31mNameError\u001b[0m                                 Traceback (most recent call last)",
      "\u001b[0;32m<ipython-input-8-acf88d121b9f>\u001b[0m in \u001b[0;36m<module>\u001b[0;34m\u001b[0m\n\u001b[0;32m----> 1\u001b[0;31m \u001b[0mroute\u001b[0m \u001b[0;34m=\u001b[0m \u001b[0mquery_PT\u001b[0m\u001b[0;34m(\u001b[0m\u001b[0mfromPlace\u001b[0m \u001b[0;34m=\u001b[0m \u001b[0;34m\"52.25177,20.92758\"\u001b[0m\u001b[0;34m,\u001b[0m \u001b[0mtoPlace\u001b[0m \u001b[0;34m=\u001b[0m \u001b[0;34m\"52.20550,21.00517\"\u001b[0m\u001b[0;34m,\u001b[0m \u001b[0mtime\u001b[0m \u001b[0;34m=\u001b[0m \u001b[0;34m\"10:02am\"\u001b[0m\u001b[0;34m)\u001b[0m\u001b[0;34m\u001b[0m\u001b[0;34m\u001b[0m\u001b[0m\n\u001b[0m\u001b[1;32m      2\u001b[0m \u001b[0mplan\u001b[0m \u001b[0;34m=\u001b[0m \u001b[0mroute\u001b[0m\u001b[0;34m[\u001b[0m\u001b[0;34m'plan'\u001b[0m\u001b[0;34m]\u001b[0m\u001b[0;34m\u001b[0m\u001b[0;34m\u001b[0m\u001b[0m\n",
      "\u001b[0;31mNameError\u001b[0m: name 'query_PT' is not defined"
     ]
    }
   ],
   "source": [
    "route = query_PT(fromPlace = \"52.25177,20.92758\", toPlace = \"52.20550,21.00517\", time = \"10:02am\")\n",
    "plan = route['plan']"
   ]
  },
  {
   "cell_type": "code",
   "execution_count": 6,
   "metadata": {},
   "outputs": [],
   "source": [
    "with open('plan.json', 'w') as outfile:\n",
    "    json.dump(route, outfile)"
   ]
  },
  {
   "cell_type": "code",
   "execution_count": 7,
   "metadata": {},
   "outputs": [
    {
     "name": "stdout",
     "output_type": "stream",
     "text": [
      "Trip from (20.9276,52.2518) to (21.0052,52.2055) at 1586419320000. \n",
      "3 connections found. \n",
      "Best one is 56min (624m walk, 1 transfer(s), wait time 2.45min)\n",
      "\n",
      "LEG \t MODE \tDIST \tTIME\n",
      "-----------------------------\n",
      "1\tWALK\t282\t235\n",
      "2\tBUS\t3123\t600\n",
      "3\tWALK\t123\t95\n",
      "4\tTRAM\t10000\t2100\n",
      "5\tWALK\t219\t181\n"
     ]
    },
    {
     "data": {
      "text/html": [
       "<div style=\"width:100%;\"><div style=\"position:relative;width:100%;height:0;padding-bottom:60%;\"><iframe src=\"data:text/html;charset=utf-8;base64,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\" style=\"position:absolute;width:100%;height:100%;left:0;top:0;border:none !important;\" allowfullscreen webkitallowfullscreen mozallowfullscreen></iframe></div></div>"
      ],
      "text/plain": [
       "<folium.folium.Map at 0x114c6afd0>"
      ]
     },
     "execution_count": 7,
     "metadata": {},
     "output_type": "execute_result"
    }
   ],
   "source": [
    "plot(plan, color = 'green')"
   ]
  },
  {
   "cell_type": "markdown",
   "metadata": {},
   "source": [
    "#### Query times: 15s per 100 queries"
   ]
  },
  {
   "cell_type": "code",
   "execution_count": 9,
   "metadata": {},
   "outputs": [],
   "source": [
    "fromPlace = \"52.25177,20.92758\" \n",
    "toPlace = \"52.20550,21.00517\"\n",
    "time = \"11:02pm\"\n",
    "\"\"\"\n",
    "Queries the server (with a given GTFS and OSM loaded) for a route 'fromPlace' 'toPlace' at 'time', Returns .json response\n",
    "\"\"\"     \n",
    "query = dict() # full query: http://dev.opentripplanner.org/apidoc/1.0.0/resource_PlannerResource.html\n",
    "query['fromPlace'] = fromPlace\n",
    "query['toPlace'] = toPlace\n",
    "query['time'] = time\n",
    "query['date'] = \"04-09-2020\"  # !!!!!!!!! MM-DD-YYYY !!!!!!!!! (Americans...)\n",
    "query['mode'] = \"TRANSIT,WALK\"\n",
    "query['maxWalkDistance']=500\n",
    "query['arriveBy']='false'"
   ]
  },
  {
   "cell_type": "code",
   "execution_count": 10,
   "metadata": {},
   "outputs": [],
   "source": [
    "def just_query(query):\n",
    "    \n",
    "    r = requests.get(\"http://localhost:8080/otp/routers/default/plan\", params = query)\n",
    "    route = r.json()  \n",
    "    return route"
   ]
  },
  {
   "cell_type": "code",
   "execution_count": 11,
   "metadata": {
    "collapsed": true,
    "jupyter": {
     "outputs_hidden": true
    }
   },
   "outputs": [
    {
     "data": {
      "text/plain": [
       "{'requestParameters': {'date': '04-09-2020',\n",
       "  'mode': 'TRANSIT,WALK',\n",
       "  'arriveBy': 'false',\n",
       "  'fromPlace': '52.25177,20.92758',\n",
       "  'toPlace': '52.20550,21.00517',\n",
       "  'time': '11:02pm',\n",
       "  'maxWalkDistance': '500'},\n",
       " 'error': {'id': 406,\n",
       "  'msg': 'No transit times available. The date may be past or too far in the future or there may not be transit service for your trip at the time you chose.',\n",
       "  'message': 'NO_TRANSIT_TIMES',\n",
       "  'noPath': True},\n",
       " 'debugOutput': {'precalculationTime': 0,\n",
       "  'pathCalculationTime': 0,\n",
       "  'pathTimes': [],\n",
       "  'renderingTime': 0,\n",
       "  'totalTime': 0,\n",
       "  'timedOut': False},\n",
       " 'elevationMetadata': {'ellipsoidToGeoidDifference': -33.728873142311954,\n",
       "  'geoidElevation': False}}"
      ]
     },
     "execution_count": 11,
     "metadata": {},
     "output_type": "execute_result"
    }
   ],
   "source": [
    "just_query(query)"
   ]
  },
  {
   "cell_type": "code",
   "execution_count": 41,
   "metadata": {},
   "outputs": [
    {
     "name": "stdout",
     "output_type": "stream",
     "text": [
      "134 ms ± 3.58 ms per loop (mean ± std. dev. of 7 runs, 10 loops each)\n"
     ]
    }
   ],
   "source": [
    "%timeit just_query(query)"
   ]
  },
  {
   "cell_type": "code",
   "execution_count": 38,
   "metadata": {},
   "outputs": [
    {
     "name": "stdout",
     "output_type": "stream",
     "text": [
      "14.1 s ± 375 ms per loop (mean ± std. dev. of 7 runs, 1 loop each)\n"
     ]
    }
   ],
   "source": [
    "%timeit [query_PT() for _ in range(100)]"
   ]
  },
  {
   "cell_type": "markdown",
   "metadata": {},
   "source": [
    "---"
   ]
  },
  {
   "cell_type": "code",
   "execution_count": 16,
   "metadata": {},
   "outputs": [],
   "source": [
    "def make_query(row):\n",
    "    \"\"\"\n",
    "    creates OTP query from the single row in uber data\n",
    "    \"\"\"\n",
    "    query = dict()\n",
    "    query['fromPlace'] = \"{},{}\".format(row.origin_lat, row.origin_lng)\n",
    "    query['toPlace'] = \"{},{}\".format(row.dest_lat, row.dest_lng)\n",
    "    hour, minute, _ = row.start_time.split(' ')[1].split(':')\n",
    "    if int(hour) < 12:\n",
    "        ampm = 'am'\n",
    "    else:\n",
    "        hour = int(hour) - 12\n",
    "        ampm = 'pm'\n",
    "    query['time'] = \"{:02d}:{}{}\".format(int(hour), minute, ampm)\n",
    "\n",
    "    year, month, day = row.start_time.split(' ')[0].split('-')\n",
    "    query['date'] = \"{}-{}-{}\".format(month, day, year)\n",
    "\n",
    "    query['mode'] = \"TRANSIT,WALK\"\n",
    "    query['maxWalkDistance'] = 2000\n",
    "    query['arriveBy'] = 'false'\n",
    "    return query"
   ]
  },
  {
   "cell_type": "code",
   "execution_count": 3,
   "metadata": {},
   "outputs": [],
   "source": [
    "def query_PT(URL = \"http://localhost:8080/otp/routers/default/plan\", fromPlace = \"52.25177,20.92758\", toPlace = \"52.20550,21.00517\", time = \"11:02pm\"):\n",
    "    \"\"\"\n",
    "    Queries the server (with a given GTFS and OSM loaded) for a route 'fromPlace' 'toPlace' at 'time', Returns .json response\n",
    "    \"\"\"     \n",
    "    query = dict() # full query: http://dev.opentripplanner.org/apidoc/1.0.0/resource_PlannerResource.html\n",
    "    query['fromPlace'] = fromPlace\n",
    "    query['toPlace'] = toPlace\n",
    "    query['time'] = time\n",
    "    query['date'] = \"04-09-2020\"  # !!!!!!!!! MM-DD-YYYY !!!!!!!!! (Americans...)\n",
    "    query['mode'] = \"TRANSIT,WALK\"\n",
    "    query['maxWalkDistance']=500\n",
    "    query['arriveBy']='false'\n",
    "    r = requests.get(URL, params = query)\n",
    "    route = r.json()    \n",
    "    return route"
   ]
  },
  {
   "cell_type": "code",
   "execution_count": 8,
   "metadata": {},
   "outputs": [],
   "source": [
    "def plot(plan, color = 'green'):\n",
    "    \"\"\"\n",
    "    Plots the returned path in readable formand plots it on the map\"\"\"\n",
    "    ret_str = \"Trip from ({:.4f},{:.4f}) to ({:.4f},{:.4f}) at {}. \\n{} connections found. \\nBest one is {:.0f}min ({:.0f}m walk, {} transfer(s), wait time {:.2f}min)\".format(plan['from']['lon'], plan['from']['lat'], \n",
    "          plan['to']['lon'], plan['to']['lat'], \n",
    "          plan['date'],\n",
    "          len(plan['itineraries']), \n",
    "          plan['itineraries'][0]['duration']/60, \n",
    "          plan['itineraries'][0]['walkDistance'], \n",
    "          plan['itineraries'][0]['transfers'], \n",
    "          plan['itineraries'][0]['waitingTime']/60 )\n",
    "    \n",
    "    print(ret_str)\n",
    "    print()\n",
    "    print(\"LEG \\t MODE \\tDIST \\tTIME\")\n",
    "    print('-----------------------------')\n",
    "    i=1\n",
    "    for leg in plan['itineraries'][0]['legs']:\n",
    "        print(\"{}\\t{}\\t{:.0f}\\t{:.0f}\".format(i,leg['mode'], leg['distance'], leg['duration']))\n",
    "        i+=1\n",
    "        \n",
    "    ret = list()\n",
    "    tile = 'Stamen Toner' # 'StamenTerrain'\n",
    "    tile = \"https://tile.thunderforest.com/transport/{z}/{x}/{y}.png?apikey=54d9f38859864044ae1906a121f1e942\"\n",
    "    markers = list()\n",
    "    for leg in plan['itineraries'][0]['legs']:\n",
    "        decoded = polyline.decode(leg['legGeometry']['points'])\n",
    "        ret += decoded\n",
    "        markers.append(decoded[0])\n",
    "    points = folium.PolyLine(locations = ret, color=color, weight=5, opacity=0.6)\n",
    "    \n",
    "    #points = folium.features.GeoJson()\n",
    "    CENTER = ((plan['from']['lat']+plan['to']['lat'])/2,(plan['from']['lon']+plan['to']['lon'])/2)\n",
    "    map_osm = folium.Map(location=CENTER,\n",
    "                             zoom_start=13,tiles=tile,attr=\"toner-bcg\", control_scale=True)\n",
    "    for marker in markers:\n",
    "        folium.CircleMarker(marker, radius = 5, color = color, opacity = 0.7).add_to(map_osm)\n",
    "    map_osm.add_child(points)\n",
    "    return map_osm"
   ]
  },
  {
   "cell_type": "markdown",
   "metadata": {},
   "source": [
    "---"
   ]
  }
 ],
 "metadata": {
  "kernelspec": {
   "display_name": "Python 3",
   "language": "python",
   "name": "python3"
  },
  "language_info": {
   "codemirror_mode": {
    "name": "ipython",
    "version": 3
   },
   "file_extension": ".py",
   "mimetype": "text/x-python",
   "name": "python",
   "nbconvert_exporter": "python",
   "pygments_lexer": "ipython3",
   "version": "3.7.6"
  }
 },
 "nbformat": 4,
 "nbformat_minor": 4
}
