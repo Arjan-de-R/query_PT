{
 "cells": [
  {
   "cell_type": "markdown",
   "metadata": {},
   "source": [
    "\n",
    "\n",
    "__Set your own route planner for a given OSM map and GTFS file and query server on localhost for a detailed routes__\n",
    "\n",
    "\n",
    "### walkthrough\n",
    "\n",
    "from: http://docs.opentripplanner.org/en/latest/Basic-Tutorial/\n",
    "\n",
    "1. Install Java SDK\n",
    "2. Download [latest](https://repo1.maven.org/maven2/org/opentripplanner/otp/1.4.0/otp-1.4.0-shaded.jar) .jar from [Maven](https://repo1.maven.org/maven2/org/opentripplanner/otp/1.4.0/)\n",
    "3. Download gtfs.zip of a given city into a `folder` from `transit.land`\n",
    "4. Download osm.pgf of your area from [here](https://www.interline.io/osm/extracts/) (need to login to get API token)\n",
    "5. call from terminal `java -Xmx6G -jar otp-1.4.0-shaded.jar --build data_path --inMemory` changing `6G` as memory allocated (6GB) and `data_path` to your path with osm and gtfs files\n",
    "6. if succesful you shall be able to open a web search in your browser: `http://localhost:8080/`\n",
    "7. and query it via API, for instance: 'http://localhost:8080/otp/routers/default/plan?fromPlace=52.25177%2C20.92758&toPlace=52.20550%2C21.00517&time=1%3A02pm&date=04-09-2020&mode=TRANSIT%2CWALK&maxWalkDistance=5000&arriveBy=false'\n"
   ]
  },
  {
   "cell_type": "code",
   "execution_count": 32,
   "metadata": {},
   "outputs": [],
   "source": [
    "import pandas as pd\n",
    "import requests"
   ]
  },
  {
   "cell_type": "code",
   "execution_count": 33,
   "metadata": {},
   "outputs": [],
   "source": [
    "from main import make_query, parse_OTP_response\n",
    "from utils import plot"
   ]
  },
  {
   "cell_type": "markdown",
   "metadata": {},
   "source": [
    "set up"
   ]
  },
  {
   "cell_type": "code",
   "execution_count": 38,
   "metadata": {},
   "outputs": [],
   "source": [
    "PATH = 'georequests.csv'\n",
    "OTP_API = \"http://localhost:8080/otp/routers/default/plan\""
   ]
  },
  {
   "cell_type": "markdown",
   "metadata": {},
   "source": [
    "input"
   ]
  },
  {
   "cell_type": "code",
   "execution_count": 37,
   "metadata": {},
   "outputs": [
    {
     "data": {
      "text/html": [
       "<div>\n",
       "<style scoped>\n",
       "    .dataframe tbody tr th:only-of-type {\n",
       "        vertical-align: middle;\n",
       "    }\n",
       "\n",
       "    .dataframe tbody tr th {\n",
       "        vertical-align: top;\n",
       "    }\n",
       "\n",
       "    .dataframe thead th {\n",
       "        text-align: right;\n",
       "    }\n",
       "</style>\n",
       "<table border=\"1\" class=\"dataframe\">\n",
       "  <thead>\n",
       "    <tr style=\"text-align: right;\">\n",
       "      <th></th>\n",
       "      <th>origin_x</th>\n",
       "      <th>origin_y</th>\n",
       "      <th>destination_x</th>\n",
       "      <th>destination_y</th>\n",
       "      <th>treq</th>\n",
       "    </tr>\n",
       "  </thead>\n",
       "  <tbody>\n",
       "    <tr>\n",
       "      <th>54</th>\n",
       "      <td>4.896151</td>\n",
       "      <td>52.379797</td>\n",
       "      <td>4.853960</td>\n",
       "      <td>52.382400</td>\n",
       "      <td>2020-10-29 14:32:07</td>\n",
       "    </tr>\n",
       "    <tr>\n",
       "      <th>563</th>\n",
       "      <td>4.870579</td>\n",
       "      <td>52.364917</td>\n",
       "      <td>4.825666</td>\n",
       "      <td>52.381687</td>\n",
       "      <td>2020-10-29 15:09:03</td>\n",
       "    </tr>\n",
       "    <tr>\n",
       "      <th>332</th>\n",
       "      <td>4.838084</td>\n",
       "      <td>52.346315</td>\n",
       "      <td>4.873289</td>\n",
       "      <td>52.361182</td>\n",
       "      <td>2020-10-29 15:26:59</td>\n",
       "    </tr>\n",
       "    <tr>\n",
       "      <th>490</th>\n",
       "      <td>4.890398</td>\n",
       "      <td>52.365332</td>\n",
       "      <td>4.865910</td>\n",
       "      <td>52.374555</td>\n",
       "      <td>2020-10-29 15:21:57</td>\n",
       "    </tr>\n",
       "    <tr>\n",
       "      <th>979</th>\n",
       "      <td>4.887960</td>\n",
       "      <td>52.359365</td>\n",
       "      <td>4.866404</td>\n",
       "      <td>52.371185</td>\n",
       "      <td>2020-10-29 15:05:27</td>\n",
       "    </tr>\n",
       "  </tbody>\n",
       "</table>\n",
       "</div>"
      ],
      "text/plain": [
       "     origin_x   origin_y  destination_x  destination_y                treq\n",
       "54   4.896151  52.379797       4.853960      52.382400 2020-10-29 14:32:07\n",
       "563  4.870579  52.364917       4.825666      52.381687 2020-10-29 15:09:03\n",
       "332  4.838084  52.346315       4.873289      52.361182 2020-10-29 15:26:59\n",
       "490  4.890398  52.365332       4.865910      52.374555 2020-10-29 15:21:57\n",
       "979  4.887960  52.359365       4.866404      52.371185 2020-10-29 15:05:27"
      ]
     },
     "execution_count": 37,
     "metadata": {},
     "output_type": "execute_result"
    }
   ],
   "source": [
    "df = pd.read_csv(PATH, index_col=[0])  # load the csv\n",
    "df.treq = pd.to_datetime(df.treq)\n",
    "df.sample(5)[['origin_x','origin_y','destination_x','destination_y','treq']]"
   ]
  },
  {
   "cell_type": "markdown",
   "metadata": {},
   "source": [
    "(before you can query the server you need to run it)"
   ]
  },
  {
   "cell_type": "markdown",
   "metadata": {},
   "source": [
    "sample query\n",
    "\n",
    "[query synthax](http://dev.opentripplanner.org/apidoc/1.0.0/resource_PlannerResource.html)  \n",
    "[response json structure](http://dev.opentripplanner.org/apidoc/1.0.0/json_Response.html)"
   ]
  },
  {
   "cell_type": "code",
   "execution_count": 40,
   "metadata": {},
   "outputs": [
    {
     "data": {
      "text/plain": [
       "{'success': True,\n",
       " 'n_itineraries': 3,\n",
       " 'duration': 2419,\n",
       " 'walkDistance': 1356.2871278049915,\n",
       " 'transfers': 0,\n",
       " 'transitTime': 1302,\n",
       " 'waitingTime': 2,\n",
       " 'modes': [['WALK', 805, 992], ['TRAM', 1302, 4440], ['WALK', 310, 363]]}"
      ]
     },
     "execution_count": 40,
     "metadata": {},
     "output_type": "execute_result"
    }
   ],
   "source": [
    "row = df.sample(1).squeeze()\n",
    "query = make_query(row)\n",
    "r = requests.get(OTP_API, params=query)\n",
    "route = parse_OTP_response(r.json())\n",
    "route"
   ]
  },
  {
   "cell_type": "markdown",
   "metadata": {},
   "source": [
    "#### visualization"
   ]
  },
  {
   "cell_type": "code",
   "execution_count": 41,
   "metadata": {},
   "outputs": [
    {
     "name": "stdout",
     "output_type": "stream",
     "text": [
      "Trip from (4.8422,52.3452) to (4.8875,52.3740) at 1603981680000. \n",
      "3 connections found. \n",
      "Best one is 40min (1356m walk, 0 transfer(s), wait time 0.03min)\n",
      "\n",
      "LEG \t MODE \tDIST \tTIME\n",
      "-----------------------------\n",
      "1\tWALK\t992\t805\n",
      "2\tTRAM\t4441\t1302\n",
      "3\tWALK\t364\t310\n"
     ]
    },
    {
     "data": {
      "text/html": [
       "<div style=\"width:100%;\"><div style=\"position:relative;width:100%;height:0;padding-bottom:60%;\"><span style=\"color:#565656\">Make this Notebook Trusted to load map: File -> Trust Notebook</span><iframe src=\"about:blank\" style=\"position:absolute;width:100%;height:100%;left:0;top:0;border:none !important;\" data-html=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 onload=\"this.contentDocument.open();this.contentDocument.write(atob(this.getAttribute('data-html')));this.contentDocument.close();\" allowfullscreen webkitallowfullscreen mozallowfullscreen></iframe></div></div>"
      ],
      "text/plain": [
       "<folium.folium.Map at 0x117d85990>"
      ]
     },
     "execution_count": 41,
     "metadata": {},
     "output_type": "execute_result"
    }
   ],
   "source": [
    "plot(r.json()['plan'], color = 'green')"
   ]
  },
  {
   "cell_type": "markdown",
   "metadata": {},
   "source": [
    "output"
   ]
  },
  {
   "cell_type": "code",
   "execution_count": 45,
   "metadata": {},
   "outputs": [
    {
     "data": {
      "text/html": [
       "<div>\n",
       "<style scoped>\n",
       "    .dataframe tbody tr th:only-of-type {\n",
       "        vertical-align: middle;\n",
       "    }\n",
       "\n",
       "    .dataframe tbody tr th {\n",
       "        vertical-align: top;\n",
       "    }\n",
       "\n",
       "    .dataframe thead th {\n",
       "        text-align: right;\n",
       "    }\n",
       "</style>\n",
       "<table border=\"1\" class=\"dataframe\">\n",
       "  <thead>\n",
       "    <tr style=\"text-align: right;\">\n",
       "      <th></th>\n",
       "      <th>success</th>\n",
       "      <th>n_itineraries</th>\n",
       "      <th>duration</th>\n",
       "      <th>walkDistance</th>\n",
       "      <th>transfers</th>\n",
       "      <th>transitTime</th>\n",
       "      <th>waitingTime</th>\n",
       "      <th>modes</th>\n",
       "    </tr>\n",
       "    <tr>\n",
       "      <th>id</th>\n",
       "      <th></th>\n",
       "      <th></th>\n",
       "      <th></th>\n",
       "      <th></th>\n",
       "      <th></th>\n",
       "      <th></th>\n",
       "      <th></th>\n",
       "      <th></th>\n",
       "    </tr>\n",
       "  </thead>\n",
       "  <tbody>\n",
       "    <tr>\n",
       "      <th>619</th>\n",
       "      <td>True</td>\n",
       "      <td>3</td>\n",
       "      <td>1089</td>\n",
       "      <td>539.499970</td>\n",
       "      <td>0</td>\n",
       "      <td>623</td>\n",
       "      <td>2</td>\n",
       "      <td>[['WALK', 51, 67], ['TRAM', 623, 2238], ['WALK...</td>\n",
       "    </tr>\n",
       "    <tr>\n",
       "      <th>504</th>\n",
       "      <td>True</td>\n",
       "      <td>3</td>\n",
       "      <td>1496</td>\n",
       "      <td>1853.007188</td>\n",
       "      <td>0</td>\n",
       "      <td>0</td>\n",
       "      <td>0</td>\n",
       "      <td>[['WALK', 1496, 1852]]</td>\n",
       "    </tr>\n",
       "    <tr>\n",
       "      <th>211</th>\n",
       "      <td>True</td>\n",
       "      <td>3</td>\n",
       "      <td>1802</td>\n",
       "      <td>668.059135</td>\n",
       "      <td>0</td>\n",
       "      <td>1264</td>\n",
       "      <td>2</td>\n",
       "      <td>[['WALK', 363, 453], ['BUS', 1264, 6004], ['WA...</td>\n",
       "    </tr>\n",
       "    <tr>\n",
       "      <th>512</th>\n",
       "      <td>True</td>\n",
       "      <td>3</td>\n",
       "      <td>377</td>\n",
       "      <td>327.598910</td>\n",
       "      <td>0</td>\n",
       "      <td>83</td>\n",
       "      <td>2</td>\n",
       "      <td>[['WALK', 45, 46], ['TRAM', 83, 314], ['WALK',...</td>\n",
       "    </tr>\n",
       "    <tr>\n",
       "      <th>64</th>\n",
       "      <td>True</td>\n",
       "      <td>3</td>\n",
       "      <td>1141</td>\n",
       "      <td>1450.037489</td>\n",
       "      <td>0</td>\n",
       "      <td>0</td>\n",
       "      <td>0</td>\n",
       "      <td>[['WALK', 1141, 1449]]</td>\n",
       "    </tr>\n",
       "  </tbody>\n",
       "</table>\n",
       "</div>"
      ],
      "text/plain": [
       "     success  n_itineraries  duration  walkDistance  transfers  transitTime  \\\n",
       "id                                                                            \n",
       "619     True              3      1089    539.499970          0          623   \n",
       "504     True              3      1496   1853.007188          0            0   \n",
       "211     True              3      1802    668.059135          0         1264   \n",
       "512     True              3       377    327.598910          0           83   \n",
       "64      True              3      1141   1450.037489          0            0   \n",
       "\n",
       "     waitingTime                                              modes  \n",
       "id                                                                   \n",
       "619            2  [['WALK', 51, 67], ['TRAM', 623, 2238], ['WALK...  \n",
       "504            0                             [['WALK', 1496, 1852]]  \n",
       "211            2  [['WALK', 363, 453], ['BUS', 1264, 6004], ['WA...  \n",
       "512            2  [['WALK', 45, 46], ['TRAM', 83, 314], ['WALK',...  \n",
       "64             0                             [['WALK', 1141, 1449]]  "
      ]
     },
     "execution_count": 45,
     "metadata": {},
     "output_type": "execute_result"
    }
   ],
   "source": [
    "pd.read_csv('georequests_PT.csv', index_col=[0]).sample(5)"
   ]
  },
  {
   "cell_type": "markdown",
   "metadata": {},
   "source": [
    "---"
   ]
  }
 ],
 "metadata": {
  "kernelspec": {
   "display_name": "Python 3",
   "language": "python",
   "name": "python3"
  },
  "language_info": {
   "codemirror_mode": {
    "name": "ipython",
    "version": 3
   },
   "file_extension": ".py",
   "mimetype": "text/x-python",
   "name": "python",
   "nbconvert_exporter": "python",
   "pygments_lexer": "ipython3",
   "version": "3.7.6"
  }
 },
 "nbformat": 4,
 "nbformat_minor": 4
}
