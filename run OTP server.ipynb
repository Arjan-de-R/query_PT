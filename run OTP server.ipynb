{
 "cells": [
  {
   "attachments": {},
   "cell_type": "markdown",
   "metadata": {},
   "source": [
    "##  PTqueries_OTP \n",
    "\n",
    "\n",
    "set up the OTP server and keep it up and running.\n",
    "\n",
    "> Querying via browser: 'http://localhost:8080'\n",
    "\n",
    "> Killing server http://code2care.org/2015/how-to-kill-service-running-on-port-using-terminal-command/"
   ]
  },
  {
   "cell_type": "code",
   "execution_count": 1,
   "metadata": {},
   "outputs": [],
   "source": [
    "OTP_PATH = \"otp-2.3.0-shaded.jar\" # IMPORTANT: check if this version of OTP is compatible with your version of Java\n",
    "DATA_PATH = \"data\" # in folder there should be a gtfs.zip and *.osm.pbf"
   ]
  },
  {
   "cell_type": "code",
   "execution_count": 3,
   "metadata": {},
   "outputs": [],
   "source": [
    "# Building the graph (very memory consuming) and saving it\n",
    "MEMORY = 60\n",
    "call = \"-Xmx{}G -jar {} --build --save {}\".format(MEMORY, OTP_PATH, DATA_PATH) # to run server and save the graph file"
   ]
  },
  {
   "cell_type": "code",
   "execution_count": 2,
   "metadata": {},
   "outputs": [],
   "source": [
    "# Once the graph is built, load the graph.obj\n",
    "MEMORY = 40\n",
    "call = \"-Xmx{}G -jar {} --load {}\".format(MEMORY, OTP_PATH, DATA_PATH) "
   ]
  },
  {
   "attachments": {},
   "cell_type": "markdown",
   "metadata": {},
   "source": [
    "terminal call (server is running when you see 'Grizzly server running' in the console output below)"
   ]
  },
  {
   "cell_type": "code",
   "execution_count": null,
   "metadata": {},
   "outputs": [],
   "source": [
    "!java $call"
   ]
  },
  {
   "attachments": {},
   "cell_type": "markdown",
   "metadata": {},
   "source": [
    "The OTP process can be killed (in a Linux shell) as follows:\n",
    "1. ps aux to list all processes, find pid of Java process\n",
    "1. then type \"kill 'pid'\", e.g. \"kill 4050\""
   ]
  },
  {
   "attachments": {},
   "cell_type": "markdown",
   "metadata": {},
   "source": [
    "---"
   ]
  }
 ],
 "metadata": {
  "kernelspec": {
   "display_name": "Python 3",
   "language": "python",
   "name": "python3"
  },
  "language_info": {
   "codemirror_mode": {
    "name": "ipython",
    "version": 3
   },
   "file_extension": ".py",
   "mimetype": "text/x-python",
   "name": "python",
   "nbconvert_exporter": "python",
   "pygments_lexer": "ipython3",
   "version": "3.10.16"
  }
 },
 "nbformat": 4,
 "nbformat_minor": 4
}
